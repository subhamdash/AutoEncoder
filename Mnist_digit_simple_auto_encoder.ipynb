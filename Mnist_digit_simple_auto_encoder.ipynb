{
  "nbformat": 4,
  "nbformat_minor": 0,
  "metadata": {
    "colab": {
      "name": "Untitled4.ipynb",
      "version": "0.3.2",
      "provenance": [],
      "include_colab_link": true
    },
    "kernelspec": {
      "name": "python3",
      "display_name": "Python 3"
    }
  },
  "cells": [
    {
      "cell_type": "markdown",
      "metadata": {
        "id": "view-in-github",
        "colab_type": "text"
      },
      "source": [
        "<a href=\"https://colab.research.google.com/github/subhamdash/AutoEncoder/blob/master/Mnist_digit_simple_auto_encoder.ipynb\" target=\"_parent\"><img src=\"https://colab.research.google.com/assets/colab-badge.svg\" alt=\"Open In Colab\"/></a>"
      ]
    },
    {
      "cell_type": "code",
      "metadata": {
        "id": "9lUVGszwJgJQ",
        "colab_type": "code",
        "colab": {}
      },
      "source": [
        "%matplotlib inline\n",
        "%config InlineBackend.figure_format = 'retina'\n",
        "import matplotlib.pyplot as plt\n",
        "import pandas as pd\n",
        "import numpy as np\n",
        "import seaborn as sns\n",
        "import warnings\n",
        "\n",
        "warnings.filterwarnings('ignore')\n",
        "\n",
        "from __future__ import print_function\n",
        "from keras.models import Model\n",
        "from keras.layers import Dense, Input\n",
        "from keras.datasets import mnist\n",
        "from keras.regularizers import l1\n",
        "from keras.optimizers import Adam\n",
        "from keras.callbacks import EarlyStopping\n",
        "from keras.datasets import mnist"
      ],
      "execution_count": 0,
      "outputs": []
    },
    {
      "cell_type": "markdown",
      "metadata": {
        "id": "iNCbrYQRWGJ2",
        "colab_type": "text"
      },
      "source": [
        "**Import all the libraries**"
      ]
    },
    {
      "cell_type": "markdown",
      "metadata": {
        "id": "FrhFG0f3WYCh",
        "colab_type": "text"
      },
      "source": [
        "**UTILITY FUNCTION TO DISPLAY THE IMAGE**"
      ]
    },
    {
      "cell_type": "code",
      "metadata": {
        "id": "3cukL-IWJmzT",
        "colab_type": "code",
        "colab": {}
      },
      "source": [
        "def plot_autoencoder_outputs(autoencoder, n, dims):\n",
        "    decoded_imgs = autoencoder.predict(test_x)\n",
        "\n",
        "    # number of example digits to show\n",
        "    n = 5\n",
        "    plt.figure(figsize=(10, 4.5))\n",
        "    for i in range(n):\n",
        "        # plot original image\n",
        "        ax = plt.subplot(2, n, i + 1)\n",
        "        plt.imshow(test_x[i].reshape(*dims))\n",
        "        plt.gray()\n",
        "        ax.get_xaxis().set_visible(False)\n",
        "        ax.get_yaxis().set_visible(False)\n",
        "        if i == n/2:\n",
        "            ax.set_title('Original Images')\n",
        "\n",
        "        # plot reconstruction \n",
        "        ax = plt.subplot(2, n, i + 1 + n)\n",
        "        plt.imshow(decoded_imgs[i].reshape(*dims))\n",
        "        plt.gray()\n",
        "        ax.get_xaxis().set_visible(False)\n",
        "        ax.get_yaxis().set_visible(False)\n",
        "        if i == n/2:\n",
        "            ax.set_title('Reconstructed Images')\n",
        "    plt.show()\n",
        "\n",
        "def plot_loss(history):\n",
        "    historydf = pd.DataFrame(history.history, index=history.epoch)\n",
        "    plt.figure(figsize=(8, 6))\n",
        "    historydf.plot(ylim=(0, historydf.values.max()))\n",
        "    plt.title('Loss: %.3f' % history.history['loss'][-1])\n",
        "    \n",
        "def plot_compare_histories(history_list, name_list, plot_accuracy=True):\n",
        "    dflist = []\n",
        "    min_epoch = len(history_list[0].epoch)\n",
        "    losses = []\n",
        "    for history in history_list:\n",
        "        h = {key: val for key, val in history.history.items() if not key.startswith('val_')}\n",
        "        dflist.append(pd.DataFrame(h, index=history.epoch))\n",
        "        min_epoch = min(min_epoch, len(history.epoch))\n",
        "        losses.append(h['loss'][-1])\n",
        "\n",
        "    historydf = pd.concat(dflist, axis=1)\n",
        "\n",
        "    metrics = dflist[0].columns\n",
        "    idx = pd.MultiIndex.from_product([name_list, metrics], names=['model', 'metric'])\n",
        "    historydf.columns = idx\n",
        "    \n",
        "    plt.figure(figsize=(6, 8))\n",
        "\n",
        "    ax = plt.subplot(211)\n",
        "    historydf.xs('loss', axis=1, level='metric').plot(ylim=(0,1), ax=ax)\n",
        "    plt.title(\"Training Loss: \" + ' vs '.join([str(round(x, 3)) for x in losses]))\n",
        "    \n",
        "    if plot_accuracy:\n",
        "        ax = plt.subplot(212)\n",
        "        historydf.xs('acc', axis=1, level='metric').plot(ylim=(0,1), ax=ax)\n",
        "        plt.title(\"Accuracy\")\n",
        "        plt.xlabel(\"Epochs\")\n",
        "    \n",
        "    plt.xlim(0, min_epoch-1)\n",
        "    plt.tight_layout()"
      ],
      "execution_count": 0,
      "outputs": []
    },
    {
      "cell_type": "markdown",
      "metadata": {
        "id": "5UboHj9qWq8J",
        "colab_type": "text"
      },
      "source": [
        "**Import the mnist digit dataset and normalized it ** "
      ]
    },
    {
      "cell_type": "code",
      "metadata": {
        "id": "xl35pDb5Jr2r",
        "colab_type": "code",
        "colab": {}
      },
      "source": [
        "(train_x, train_y), (test_x, test_y) = mnist.load_data()\n",
        "train_x = train_x.astype('float32') / 255.0\n",
        "test_x = test_x.astype('float32') / 255.0\n",
        "train_x = train_x.reshape(-1, 784)\n",
        "test_x = test_x.reshape(-1, 784)\n",
        "print(train_x.shape)\n",
        "print(test_x.shape)"
      ],
      "execution_count": 0,
      "outputs": []
    },
    {
      "cell_type": "markdown",
      "metadata": {
        "id": "2ZZgFveCW85I",
        "colab_type": "text"
      },
      "source": [
        "**In this section, we create an autoencoder architecture. The encoding part comprises of two layers with 128, and 64 nodes and a code layer with 32 nodes.**"
      ]
    },
    {
      "cell_type": "code",
      "metadata": {
        "id": "9JW5FcpCKIu5",
        "colab_type": "code",
        "colab": {}
      },
      "source": [
        "input_size=784\n",
        "\n",
        "## input layer\n",
        "input_layer = Input(shape=(input_size,))\n",
        "\n",
        "encode_layer1 = Dense(128, activation='relu')(input_layer)\n",
        "encode_layer2 = Dense(64, activation='relu')(encode_layer1)\n",
        "\n",
        "code_layer   = Dense(32, activation='sigmoid')(encode_layer2)\n",
        "\n",
        "decode_layer1 = Dense(64, activation='relu')(code_layer)\n",
        "decode_layer2 = Dense(128, activation='relu')(decode_layer1)\n",
        "\n",
        "## output layer\n",
        "output_layer  = Dense(784,activation='sigmoid')(decode_layer2)\n",
        "\n",
        "\n"
      ],
      "execution_count": 0,
      "outputs": []
    },
    {
      "cell_type": "code",
      "metadata": {
        "id": "G0OL0a6PXcgv",
        "colab_type": "code",
        "colab": {}
      },
      "source": [
        "autoencoder = Model(input_layer, output_layer)\n",
        "autoencoder.summary()"
      ],
      "execution_count": 0,
      "outputs": []
    },
    {
      "cell_type": "markdown",
      "metadata": {
        "id": "Vi3yBSG1XsJ1",
        "colab_type": "text"
      },
      "source": [
        "**Next, we will train the model with early stopping callback. or in normally (select any one both are same)**"
      ]
    },
    {
      "cell_type": "code",
      "metadata": {
        "id": "kQ9EWM36Kldu",
        "colab_type": "code",
        "colab": {}
      },
      "source": [
        "\n",
        "autoencoder.compile(optimizer='adam', loss='binary_crossentropy')\n",
        "autoencoder.fit(train_x,train_x, epochs=3)"
      ],
      "execution_count": 0,
      "outputs": []
    },
    {
      "cell_type": "code",
      "metadata": {
        "id": "wGleSRy4OyJG",
        "colab_type": "code",
        "colab": {}
      },
      "source": [
        "autoencoder.compile(optimizer='adam', loss='mse')\n",
        "early_stopping = EarlyStopping(monitor='val_loss', min_delta=0, patience=10, verbose=1, mode='auto')\n",
        "autoencoder.fit(train_x, train_x, epochs=3, batch_size=2048, validation_data=(test_x, test_x), callbacks=[early_stopping])"
      ],
      "execution_count": 0,
      "outputs": []
    },
    {
      "cell_type": "markdown",
      "metadata": {
        "id": "fCfoBh3OYd6l",
        "colab_type": "text"
      },
      "source": [
        "**Lets plot the original and predicted image**"
      ]
    },
    {
      "cell_type": "code",
      "metadata": {
        "id": "V0vKUWKSNp3J",
        "colab_type": "code",
        "colab": {
          "base_uri": "https://localhost:8080/",
          "height": 482
        },
        "outputId": "c50e62df-3bff-478c-e551-f24a4e886ade"
      },
      "source": [
        "plot_autoencoder_outputs(autoencoder, 5, (28, 28))\n",
        "preds = autoencoder.predict(test_x)\n"
      ],
      "execution_count": 40,
      "outputs": [
        {
          "output_type": "display_data",
          "data": {
            "image/png": "[encoded data removed]",
            "text/plain": [
              "<Figure size 720x324 with 10 Axes>"
            ]
          },
          "metadata": {
            "tags": [],
            "image/png": {
              "width": 572,
              "height": 244
            }
          }
        },
        {
          "output_type": "stream",
          "text": [
            "[[0.0000000e+00 0.0000000e+00 0.0000000e+00 ... 0.0000000e+00\n",
            "  0.0000000e+00 0.0000000e+00]\n",
            " [8.9406967e-08 0.0000000e+00 8.9406967e-08 ... 0.0000000e+00\n",
            "  2.9802322e-08 0.0000000e+00]\n",
            " [0.0000000e+00 0.0000000e+00 0.0000000e+00 ... 0.0000000e+00\n",
            "  0.0000000e+00 0.0000000e+00]\n",
            " ...\n",
            " [0.0000000e+00 0.0000000e+00 0.0000000e+00 ... 0.0000000e+00\n",
            "  0.0000000e+00 0.0000000e+00]\n",
            " [0.0000000e+00 5.9604645e-08 0.0000000e+00 ... 2.9802322e-08\n",
            "  0.0000000e+00 5.9604645e-08]\n",
            " [2.9802322e-08 0.0000000e+00 0.0000000e+00 ... 0.0000000e+00\n",
            "  0.0000000e+00 0.0000000e+00]]\n"
          ],
          "name": "stdout"
        }
      ]
    },
    {
      "cell_type": "code",
      "metadata": {
        "id": "RrxymdikbnEV",
        "colab_type": "code",
        "colab": {}
      },
      "source": [
        ""
      ],
      "execution_count": 0,
      "outputs": []
    }
  ]
}